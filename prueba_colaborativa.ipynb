{
 "cells": [
  {
   "cell_type": "markdown",
   "id": "30abc9ee",
   "metadata": {},
   "source": [
    "# PRUEBA COLABORATIVA"
   ]
  },
  {
   "cell_type": "code",
   "execution_count": 1,
   "id": "5b4eab4b",
   "metadata": {},
   "outputs": [
    {
     "name": "stdout",
     "output_type": "stream",
     "text": [
      "2\n"
     ]
    }
   ],
   "source": [
    "x=1\n",
    "y=1\n",
    "print(x+y)"
   ]
  },
  {
   "cell_type": "markdown",
   "id": "870d549d",
   "metadata": {},
   "source": [
    "UWUWUWUWUUWUWUWU WUUWUW"
   ]
  }
 ],
 "metadata": {
  "kernelspec": {
   "display_name": "Python 3 (ipykernel)",
   "language": "python",
   "name": "python3"
  },
  "language_info": {
   "codemirror_mode": {
    "name": "ipython",
    "version": 3
   },
   "file_extension": ".py",
   "mimetype": "text/x-python",
   "name": "python",
   "nbconvert_exporter": "python",
   "pygments_lexer": "ipython3",
   "version": "3.9.12"
  }
 },
 "nbformat": 4,
 "nbformat_minor": 5
}
