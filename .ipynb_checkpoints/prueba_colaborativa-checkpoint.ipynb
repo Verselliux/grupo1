{
 "cells": [
  {
   "cell_type": "markdown",
   "id": "30abc9ee",
   "metadata": {},
   "source": [
    "# PRUEBA COLABORATIVA"
   ]
  },
  {
   "cell_type": "code",
   "execution_count": 1,
   "id": "8c4810d4",
   "metadata": {},
   "outputs": [
    {
     "name": "stdout",
     "output_type": "stream",
     "text": [
      "Ingrese la masa (en kg): 45\n",
      "Ingrese la aceleración (en m/s^2): 4\n",
      "La fuerza es: 180.0 N\n"
     ]
    }
   ],
   "source": [
    "m = float(input(\"Ingrese la masa (en kg): \"))\n",
    "a = float(input(\"Ingrese la aceleración (en m/s^2): \"))\n",
    "F = m * a\n",
    "print(\"La fuerza es:\", F, \"N\")\n"
   ]
  },
  {
   "cell_type": "code",
   "execution_count": 1,
   "id": "5b4eab4b",
   "metadata": {},
   "outputs": [
    {
     "name": "stdout",
     "output_type": "stream",
     "text": [
      "2\n"
     ]
    }
   ],
   "source": [
    "x=1\n",
    "y=1\n",
    "print(x+y)"
   ]
  },
  {
   "cell_type": "markdown",
   "id": "870d549d",
   "metadata": {},
   "source": [
    "UWUWUWUWUUWUWUWU WUUWUW"
   ]
  }
 ],
 "metadata": {
  "kernelspec": {
   "display_name": "Python 3 (ipykernel)",
   "language": "python",
   "name": "python3"
  },
  "language_info": {
   "codemirror_mode": {
    "name": "ipython",
    "version": 3
   },
   "file_extension": ".py",
   "mimetype": "text/x-python",
   "name": "python",
   "nbconvert_exporter": "python",
   "pygments_lexer": "ipython3",
   "version": "3.10.9"
  }
 },
 "nbformat": 4,
 "nbformat_minor": 5
}
